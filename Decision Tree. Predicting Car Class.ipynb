{
 "cells": [
  {
   "cell_type": "markdown",
   "id": "22ead2a0",
   "metadata": {},
   "source": [
    "# What are Decision Trees?"
   ]
  },
  {
   "cell_type": "markdown",
   "id": "4ae72931",
   "metadata": {},
   "source": [
    "Decision Trees (DTs) are a non-parametric supervised learning method used for classification and regression.\n",
    "\n",
    "Decision tree is a tree shaped diagram used to determinea course of action. Each branch of the tree represents a possible decision, occurence or reaction.\n",
    "\n",
    "The goal is to create a model that predicts the value of a target variable by learning simple decision rules inferred from the data features."
   ]
  },
  {
   "cell_type": "code",
   "execution_count": 1,
   "id": "fda96e77",
   "metadata": {},
   "outputs": [],
   "source": [
    "from IPython.display import Image, display\n",
    "import warnings\n",
    "warnings.filterwarnings('ignore')"
   ]
  },
  {
   "cell_type": "code",
   "execution_count": 2,
   "id": "9903be4e",
   "metadata": {},
   "outputs": [
    {
     "data": {
      "text/html": [
       "<img src=\"https://cdn-dfnaj.nitrocdn.com/xxeFXDnBIOflfPsgwjDLywIQwPChAOzV/assets/static/optimized/rev-6df15ef/wp-content/uploads/2018/07/what-is-a-decision-tree.png\" width=\"700\" class=\"unconfined\"/>"
      ],
      "text/plain": [
       "<IPython.core.display.Image object>"
      ]
     },
     "metadata": {},
     "output_type": "display_data"
    }
   ],
   "source": [
    "display(Image(url='https://cdn-dfnaj.nitrocdn.com/xxeFXDnBIOflfPsgwjDLywIQwPChAOzV/assets/static/optimized/rev-6df15ef/wp-content/uploads/2018/07/what-is-a-decision-tree.png',\n",
    "              width=700, unconfined=True))"
   ]
  },
  {
   "cell_type": "markdown",
   "id": "e38d723f",
   "metadata": {},
   "source": [
    "#### Problems that decision tree can solve\n",
    "\n",
    "**Classification:**\n",
    "\n",
    "A classification tree will determine a set of logical if-then conditions to classify problems.<br>\n",
    "For example, discriminating between 3 types of flowers based on certain features.\n",
    "\n",
    "**Regression:**\n",
    "\n",
    "Regression tree is used when the target variable is numerical or continuous in nature. We fit a regression model to the target variable using each of the indepentent variables.<br>\n",
    "Each split is made based on the sum of squared errors."
   ]
  },
  {
   "cell_type": "markdown",
   "id": "01a0bad5",
   "metadata": {},
   "source": [
    "# How does a decision tree algorithm work?"
   ]
  },
  {
   "cell_type": "code",
   "execution_count": 3,
   "id": "b8e3383a",
   "metadata": {},
   "outputs": [
    {
     "data": {
      "text/html": [
       "<img src=\"https://miro.medium.com/max/700/1*ECd5efKxuSR-CZMIx0kUZA.png\" width=\"700\" class=\"unconfined\"/>"
      ],
      "text/plain": [
       "<IPython.core.display.Image object>"
      ]
     },
     "metadata": {},
     "output_type": "display_data"
    }
   ],
   "source": [
    "display(Image(url='https://miro.medium.com/max/700/1*ECd5efKxuSR-CZMIx0kUZA.png', width=700, unconfined=True))"
   ]
  },
  {
   "cell_type": "markdown",
   "id": "499ad43f",
   "metadata": {},
   "source": [
    "A decision tree is a structure that includes a root node, branches, and leaf nodes. Each internal node denotes a test on an attribute, each branch denotes the outcome of a test, and each leaf node holds a class label. The topmost node in the tree is the root node."
   ]
  },
  {
   "cell_type": "markdown",
   "id": "cd97db7e",
   "metadata": {},
   "source": [
    "In the picture above: it starts with the **Root** node and based on root condition we get 3 branches: C1, C2 and C3 (P.S. branches can be more).<br>\n",
    "\n",
    "C2 ended up being a leaf node, which means the final decision or a prediction.<br>\n",
    "C1 and C3 ended up with Condition1 and Condition3. Condition1 and Condition3 are 2 different features and they have 2 features each.\n",
    "\n",
    "As usual, the categories can be more than that."
   ]
  },
  {
   "cell_type": "markdown",
   "id": "ff61595a",
   "metadata": {},
   "source": [
    "#### Classification and Regression Trees (CART) \n",
    "\n",
    "Nowadays, Decision Tree algorithm is known by its modern name CART which stands for Classification and Regression Trees. Classification and Regression Trees or CART is a term introduced by Leo Breiman to refer to Decision Tree algorithms that can be used for classification and regression modeling problems.\n",
    "\n",
    "The CART algorithm provides a foundation for other important algorithms like bagged decision trees, random forest and boosted decision trees. In this kernel, I will solve a classification problem. So, I will refer the algorithm also as Decision Tree Classification problem."
   ]
  },
  {
   "cell_type": "markdown",
   "id": "fcd0c717",
   "metadata": {},
   "source": [
    "## Use Case: Predict the class of the car.\n",
    "We will build two models, one with criterion *gini index* and another one with criterion *entropy*."
   ]
  },
  {
   "cell_type": "code",
   "execution_count": 4,
   "id": "3357f8a0",
   "metadata": {},
   "outputs": [],
   "source": [
    "import pandas as pd\n",
    "import numpy as np\n",
    "import matplotlib.pyplot as plt\n",
    "import seaborn as sns\n",
    "\n",
    "from sklearn.model_selection import train_test_split\n",
    "from sklearn.tree import DecisionTreeClassifier\n",
    "from sklearn.metrics import accuracy_score, confusion_matrix, classification_report\n",
    "from sklearn import tree\n",
    "\n",
    "# Visualize decision-trees with graphviz\n",
    "import graphviz"
   ]
  },
  {
   "cell_type": "markdown",
   "id": "9f2c840b",
   "metadata": {},
   "source": [
    "We make some assumptions while implementing the Decision-Tree algorithm.<br>\n",
    "These are listed below:\n",
    "\n",
    "* At the beginning, the whole training set is considered as the root.\n",
    "* Feature values need to be categorical. If the values are continuous then they are discretized prior to building the model.\n",
    "* Records are distributed recursively on the basis of attribute values.\n",
    "* Order to placing attributes as root or internal node of the tree is done by using some statistical approach."
   ]
  },
  {
   "cell_type": "markdown",
   "id": "4ee6d43c",
   "metadata": {},
   "source": [
    "### Attribute selection measures"
   ]
  },
  {
   "cell_type": "markdown",
   "id": "90bd38ac",
   "metadata": {},
   "source": [
    "The primary challenge in the Decision Tree implementation is to identify the attributes which we consider as the root node and each level. This process is known as the attributes selection. There are different attributes selection measure to identify the attribute which can be considered as the root node at each level.\n",
    "\n",
    "There are 2 popular attribute selection measures. <br>They are as follows:\n",
    "\n",
    "* Information gain\n",
    "\n",
    "* Gini index\n",
    "\n",
    "For more details read (https://www.kaggle.com/code/prashant111/decision-tree-classifier-tutorial)"
   ]
  },
  {
   "cell_type": "code",
   "execution_count": 5,
   "id": "bd0cb233",
   "metadata": {},
   "outputs": [
    {
     "name": "stdout",
     "output_type": "stream",
     "text": [
      "(1727, 7)\n"
     ]
    },
    {
     "data": {
      "text/html": [
       "<div>\n",
       "<style scoped>\n",
       "    .dataframe tbody tr th:only-of-type {\n",
       "        vertical-align: middle;\n",
       "    }\n",
       "\n",
       "    .dataframe tbody tr th {\n",
       "        vertical-align: top;\n",
       "    }\n",
       "\n",
       "    .dataframe thead th {\n",
       "        text-align: right;\n",
       "    }\n",
       "</style>\n",
       "<table border=\"1\" class=\"dataframe\">\n",
       "  <thead>\n",
       "    <tr style=\"text-align: right;\">\n",
       "      <th></th>\n",
       "      <th>vhigh</th>\n",
       "      <th>vhigh.1</th>\n",
       "      <th>2</th>\n",
       "      <th>2.1</th>\n",
       "      <th>small</th>\n",
       "      <th>low</th>\n",
       "      <th>unacc</th>\n",
       "    </tr>\n",
       "  </thead>\n",
       "  <tbody>\n",
       "    <tr>\n",
       "      <th>0</th>\n",
       "      <td>vhigh</td>\n",
       "      <td>vhigh</td>\n",
       "      <td>2</td>\n",
       "      <td>2</td>\n",
       "      <td>small</td>\n",
       "      <td>med</td>\n",
       "      <td>unacc</td>\n",
       "    </tr>\n",
       "    <tr>\n",
       "      <th>1</th>\n",
       "      <td>vhigh</td>\n",
       "      <td>vhigh</td>\n",
       "      <td>2</td>\n",
       "      <td>2</td>\n",
       "      <td>small</td>\n",
       "      <td>high</td>\n",
       "      <td>unacc</td>\n",
       "    </tr>\n",
       "    <tr>\n",
       "      <th>2</th>\n",
       "      <td>vhigh</td>\n",
       "      <td>vhigh</td>\n",
       "      <td>2</td>\n",
       "      <td>2</td>\n",
       "      <td>med</td>\n",
       "      <td>low</td>\n",
       "      <td>unacc</td>\n",
       "    </tr>\n",
       "    <tr>\n",
       "      <th>3</th>\n",
       "      <td>vhigh</td>\n",
       "      <td>vhigh</td>\n",
       "      <td>2</td>\n",
       "      <td>2</td>\n",
       "      <td>med</td>\n",
       "      <td>med</td>\n",
       "      <td>unacc</td>\n",
       "    </tr>\n",
       "    <tr>\n",
       "      <th>4</th>\n",
       "      <td>vhigh</td>\n",
       "      <td>vhigh</td>\n",
       "      <td>2</td>\n",
       "      <td>2</td>\n",
       "      <td>med</td>\n",
       "      <td>high</td>\n",
       "      <td>unacc</td>\n",
       "    </tr>\n",
       "  </tbody>\n",
       "</table>\n",
       "</div>"
      ],
      "text/plain": [
       "   vhigh vhigh.1  2 2.1  small   low  unacc\n",
       "0  vhigh   vhigh  2   2  small   med  unacc\n",
       "1  vhigh   vhigh  2   2  small  high  unacc\n",
       "2  vhigh   vhigh  2   2    med   low  unacc\n",
       "3  vhigh   vhigh  2   2    med   med  unacc\n",
       "4  vhigh   vhigh  2   2    med  high  unacc"
      ]
     },
     "execution_count": 5,
     "metadata": {},
     "output_type": "execute_result"
    }
   ],
   "source": [
    "data = pd.read_csv('car_evaluation.csv')\n",
    "print(data.shape)\n",
    "data.head()"
   ]
  },
  {
   "cell_type": "code",
   "execution_count": 6,
   "id": "bb95600f",
   "metadata": {},
   "outputs": [],
   "source": [
    "data.columns = ['buying', 'maint', 'doors', 'persons', 'lug_boot', 'safety', 'class']"
   ]
  },
  {
   "cell_type": "code",
   "execution_count": 7,
   "id": "50a9bd78",
   "metadata": {},
   "outputs": [
    {
     "data": {
      "text/html": [
       "<div>\n",
       "<style scoped>\n",
       "    .dataframe tbody tr th:only-of-type {\n",
       "        vertical-align: middle;\n",
       "    }\n",
       "\n",
       "    .dataframe tbody tr th {\n",
       "        vertical-align: top;\n",
       "    }\n",
       "\n",
       "    .dataframe thead th {\n",
       "        text-align: right;\n",
       "    }\n",
       "</style>\n",
       "<table border=\"1\" class=\"dataframe\">\n",
       "  <thead>\n",
       "    <tr style=\"text-align: right;\">\n",
       "      <th></th>\n",
       "      <th>buying</th>\n",
       "      <th>maint</th>\n",
       "      <th>doors</th>\n",
       "      <th>persons</th>\n",
       "      <th>lug_boot</th>\n",
       "      <th>safety</th>\n",
       "      <th>class</th>\n",
       "    </tr>\n",
       "  </thead>\n",
       "  <tbody>\n",
       "    <tr>\n",
       "      <th>0</th>\n",
       "      <td>vhigh</td>\n",
       "      <td>vhigh</td>\n",
       "      <td>2</td>\n",
       "      <td>2</td>\n",
       "      <td>small</td>\n",
       "      <td>med</td>\n",
       "      <td>unacc</td>\n",
       "    </tr>\n",
       "    <tr>\n",
       "      <th>1</th>\n",
       "      <td>vhigh</td>\n",
       "      <td>vhigh</td>\n",
       "      <td>2</td>\n",
       "      <td>2</td>\n",
       "      <td>small</td>\n",
       "      <td>high</td>\n",
       "      <td>unacc</td>\n",
       "    </tr>\n",
       "    <tr>\n",
       "      <th>2</th>\n",
       "      <td>vhigh</td>\n",
       "      <td>vhigh</td>\n",
       "      <td>2</td>\n",
       "      <td>2</td>\n",
       "      <td>med</td>\n",
       "      <td>low</td>\n",
       "      <td>unacc</td>\n",
       "    </tr>\n",
       "    <tr>\n",
       "      <th>3</th>\n",
       "      <td>vhigh</td>\n",
       "      <td>vhigh</td>\n",
       "      <td>2</td>\n",
       "      <td>2</td>\n",
       "      <td>med</td>\n",
       "      <td>med</td>\n",
       "      <td>unacc</td>\n",
       "    </tr>\n",
       "    <tr>\n",
       "      <th>4</th>\n",
       "      <td>vhigh</td>\n",
       "      <td>vhigh</td>\n",
       "      <td>2</td>\n",
       "      <td>2</td>\n",
       "      <td>med</td>\n",
       "      <td>high</td>\n",
       "      <td>unacc</td>\n",
       "    </tr>\n",
       "  </tbody>\n",
       "</table>\n",
       "</div>"
      ],
      "text/plain": [
       "  buying  maint doors persons lug_boot safety  class\n",
       "0  vhigh  vhigh     2       2    small    med  unacc\n",
       "1  vhigh  vhigh     2       2    small   high  unacc\n",
       "2  vhigh  vhigh     2       2      med    low  unacc\n",
       "3  vhigh  vhigh     2       2      med    med  unacc\n",
       "4  vhigh  vhigh     2       2      med   high  unacc"
      ]
     },
     "execution_count": 7,
     "metadata": {},
     "output_type": "execute_result"
    }
   ],
   "source": [
    "data.head()"
   ]
  },
  {
   "cell_type": "code",
   "execution_count": 8,
   "id": "6b701db4",
   "metadata": {},
   "outputs": [
    {
     "name": "stdout",
     "output_type": "stream",
     "text": [
      "<class 'pandas.core.frame.DataFrame'>\n",
      "RangeIndex: 1727 entries, 0 to 1726\n",
      "Data columns (total 7 columns):\n",
      " #   Column    Non-Null Count  Dtype \n",
      "---  ------    --------------  ----- \n",
      " 0   buying    1727 non-null   object\n",
      " 1   maint     1727 non-null   object\n",
      " 2   doors     1727 non-null   object\n",
      " 3   persons   1727 non-null   object\n",
      " 4   lug_boot  1727 non-null   object\n",
      " 5   safety    1727 non-null   object\n",
      " 6   class     1727 non-null   object\n",
      "dtypes: object(7)\n",
      "memory usage: 94.6+ KB\n"
     ]
    }
   ],
   "source": [
    "data.info()"
   ]
  },
  {
   "cell_type": "code",
   "execution_count": 9,
   "id": "8aaaae00",
   "metadata": {},
   "outputs": [
    {
     "data": {
      "text/plain": [
       "buying      0\n",
       "maint       0\n",
       "doors       0\n",
       "persons     0\n",
       "lug_boot    0\n",
       "safety      0\n",
       "class       0\n",
       "dtype: int64"
      ]
     },
     "execution_count": 9,
     "metadata": {},
     "output_type": "execute_result"
    }
   ],
   "source": [
    "data.isna().sum()"
   ]
  },
  {
   "cell_type": "code",
   "execution_count": 10,
   "id": "0eb0a1dd",
   "metadata": {},
   "outputs": [],
   "source": [
    "# Split data into separate training and test set \n",
    "X = data.drop('class', axis=1)\n",
    "y = data['class']\n",
    "\n",
    "X_train, X_test, y_train, y_test = train_test_split(X, y, test_size = 0.3, random_state = 42)"
   ]
  },
  {
   "cell_type": "code",
   "execution_count": 11,
   "id": "241b9866",
   "metadata": {},
   "outputs": [
    {
     "data": {
      "text/plain": [
       "((1208, 6), (519, 6))"
      ]
     },
     "execution_count": 11,
     "metadata": {},
     "output_type": "execute_result"
    }
   ],
   "source": [
    "# check the shape of X_train and X_test\n",
    "\n",
    "X_train.shape, X_test.shape"
   ]
  },
  {
   "cell_type": "markdown",
   "id": "187a6a6a",
   "metadata": {},
   "source": [
    "### Feature Engineering\n",
    "Feature Engineering is the process of transforming raw data into useful features that help us to understand our model better and increase its predictive power. I will carry out feature engineering on different types of variables."
   ]
  },
  {
   "cell_type": "code",
   "execution_count": 12,
   "id": "33255baf",
   "metadata": {},
   "outputs": [
    {
     "data": {
      "text/html": [
       "<div>\n",
       "<style scoped>\n",
       "    .dataframe tbody tr th:only-of-type {\n",
       "        vertical-align: middle;\n",
       "    }\n",
       "\n",
       "    .dataframe tbody tr th {\n",
       "        vertical-align: top;\n",
       "    }\n",
       "\n",
       "    .dataframe thead th {\n",
       "        text-align: right;\n",
       "    }\n",
       "</style>\n",
       "<table border=\"1\" class=\"dataframe\">\n",
       "  <thead>\n",
       "    <tr style=\"text-align: right;\">\n",
       "      <th></th>\n",
       "      <th>buying</th>\n",
       "      <th>maint</th>\n",
       "      <th>doors</th>\n",
       "      <th>persons</th>\n",
       "      <th>lug_boot</th>\n",
       "      <th>safety</th>\n",
       "    </tr>\n",
       "  </thead>\n",
       "  <tbody>\n",
       "    <tr>\n",
       "      <th>1177</th>\n",
       "      <td>med</td>\n",
       "      <td>med</td>\n",
       "      <td>5more</td>\n",
       "      <td>4</td>\n",
       "      <td>big</td>\n",
       "      <td>high</td>\n",
       "    </tr>\n",
       "    <tr>\n",
       "      <th>585</th>\n",
       "      <td>high</td>\n",
       "      <td>high</td>\n",
       "      <td>3</td>\n",
       "      <td>more</td>\n",
       "      <td>small</td>\n",
       "      <td>med</td>\n",
       "    </tr>\n",
       "    <tr>\n",
       "      <th>1551</th>\n",
       "      <td>low</td>\n",
       "      <td>med</td>\n",
       "      <td>3</td>\n",
       "      <td>4</td>\n",
       "      <td>med</td>\n",
       "      <td>med</td>\n",
       "    </tr>\n",
       "    <tr>\n",
       "      <th>727</th>\n",
       "      <td>high</td>\n",
       "      <td>med</td>\n",
       "      <td>4</td>\n",
       "      <td>more</td>\n",
       "      <td>big</td>\n",
       "      <td>high</td>\n",
       "    </tr>\n",
       "    <tr>\n",
       "      <th>707</th>\n",
       "      <td>high</td>\n",
       "      <td>med</td>\n",
       "      <td>4</td>\n",
       "      <td>2</td>\n",
       "      <td>big</td>\n",
       "      <td>low</td>\n",
       "    </tr>\n",
       "    <tr>\n",
       "      <th>...</th>\n",
       "      <td>...</td>\n",
       "      <td>...</td>\n",
       "      <td>...</td>\n",
       "      <td>...</td>\n",
       "      <td>...</td>\n",
       "      <td>...</td>\n",
       "    </tr>\n",
       "    <tr>\n",
       "      <th>1130</th>\n",
       "      <td>med</td>\n",
       "      <td>med</td>\n",
       "      <td>3</td>\n",
       "      <td>more</td>\n",
       "      <td>big</td>\n",
       "      <td>low</td>\n",
       "    </tr>\n",
       "    <tr>\n",
       "      <th>1294</th>\n",
       "      <td>med</td>\n",
       "      <td>low</td>\n",
       "      <td>5more</td>\n",
       "      <td>more</td>\n",
       "      <td>big</td>\n",
       "      <td>high</td>\n",
       "    </tr>\n",
       "    <tr>\n",
       "      <th>860</th>\n",
       "      <td>high</td>\n",
       "      <td>low</td>\n",
       "      <td>5more</td>\n",
       "      <td>more</td>\n",
       "      <td>big</td>\n",
       "      <td>low</td>\n",
       "    </tr>\n",
       "    <tr>\n",
       "      <th>1459</th>\n",
       "      <td>low</td>\n",
       "      <td>high</td>\n",
       "      <td>4</td>\n",
       "      <td>2</td>\n",
       "      <td>small</td>\n",
       "      <td>high</td>\n",
       "    </tr>\n",
       "    <tr>\n",
       "      <th>1126</th>\n",
       "      <td>med</td>\n",
       "      <td>med</td>\n",
       "      <td>3</td>\n",
       "      <td>more</td>\n",
       "      <td>small</td>\n",
       "      <td>high</td>\n",
       "    </tr>\n",
       "  </tbody>\n",
       "</table>\n",
       "<p>1208 rows × 6 columns</p>\n",
       "</div>"
      ],
      "text/plain": [
       "     buying maint  doors persons lug_boot safety\n",
       "1177    med   med  5more       4      big   high\n",
       "585    high  high      3    more    small    med\n",
       "1551    low   med      3       4      med    med\n",
       "727    high   med      4    more      big   high\n",
       "707    high   med      4       2      big    low\n",
       "...     ...   ...    ...     ...      ...    ...\n",
       "1130    med   med      3    more      big    low\n",
       "1294    med   low  5more    more      big   high\n",
       "860    high   low  5more    more      big    low\n",
       "1459    low  high      4       2    small   high\n",
       "1126    med   med      3    more    small   high\n",
       "\n",
       "[1208 rows x 6 columns]"
      ]
     },
     "execution_count": 12,
     "metadata": {},
     "output_type": "execute_result"
    }
   ],
   "source": [
    "X_train"
   ]
  },
  {
   "cell_type": "markdown",
   "id": "9df698c2",
   "metadata": {},
   "source": [
    "As we can see that all the variables are ordinal categorical data type."
   ]
  },
  {
   "cell_type": "code",
   "execution_count": 13,
   "id": "5cc9b027",
   "metadata": {},
   "outputs": [],
   "source": [
    "# import category encoders\n",
    "import category_encoders\n",
    "\n",
    "# encode variables with ordinal encoding\n",
    "encoder = category_encoders.OrdinalEncoder(cols=['buying', 'maint', 'doors', 'persons', 'lug_boot', 'safety'])\n",
    "\n",
    "X_train = encoder.fit_transform(X_train)\n",
    "\n",
    "X_test = encoder.transform(X_test)"
   ]
  },
  {
   "cell_type": "code",
   "execution_count": 14,
   "id": "a6cfc742",
   "metadata": {},
   "outputs": [
    {
     "data": {
      "text/html": [
       "<div>\n",
       "<style scoped>\n",
       "    .dataframe tbody tr th:only-of-type {\n",
       "        vertical-align: middle;\n",
       "    }\n",
       "\n",
       "    .dataframe tbody tr th {\n",
       "        vertical-align: top;\n",
       "    }\n",
       "\n",
       "    .dataframe thead th {\n",
       "        text-align: right;\n",
       "    }\n",
       "</style>\n",
       "<table border=\"1\" class=\"dataframe\">\n",
       "  <thead>\n",
       "    <tr style=\"text-align: right;\">\n",
       "      <th></th>\n",
       "      <th>buying</th>\n",
       "      <th>maint</th>\n",
       "      <th>doors</th>\n",
       "      <th>persons</th>\n",
       "      <th>lug_boot</th>\n",
       "      <th>safety</th>\n",
       "    </tr>\n",
       "  </thead>\n",
       "  <tbody>\n",
       "    <tr>\n",
       "      <th>1177</th>\n",
       "      <td>1</td>\n",
       "      <td>1</td>\n",
       "      <td>1</td>\n",
       "      <td>1</td>\n",
       "      <td>1</td>\n",
       "      <td>1</td>\n",
       "    </tr>\n",
       "    <tr>\n",
       "      <th>585</th>\n",
       "      <td>2</td>\n",
       "      <td>2</td>\n",
       "      <td>2</td>\n",
       "      <td>2</td>\n",
       "      <td>2</td>\n",
       "      <td>2</td>\n",
       "    </tr>\n",
       "    <tr>\n",
       "      <th>1551</th>\n",
       "      <td>3</td>\n",
       "      <td>1</td>\n",
       "      <td>2</td>\n",
       "      <td>1</td>\n",
       "      <td>3</td>\n",
       "      <td>2</td>\n",
       "    </tr>\n",
       "    <tr>\n",
       "      <th>727</th>\n",
       "      <td>2</td>\n",
       "      <td>1</td>\n",
       "      <td>3</td>\n",
       "      <td>2</td>\n",
       "      <td>1</td>\n",
       "      <td>1</td>\n",
       "    </tr>\n",
       "    <tr>\n",
       "      <th>707</th>\n",
       "      <td>2</td>\n",
       "      <td>1</td>\n",
       "      <td>3</td>\n",
       "      <td>3</td>\n",
       "      <td>1</td>\n",
       "      <td>3</td>\n",
       "    </tr>\n",
       "  </tbody>\n",
       "</table>\n",
       "</div>"
      ],
      "text/plain": [
       "      buying  maint  doors  persons  lug_boot  safety\n",
       "1177       1      1      1        1         1       1\n",
       "585        2      2      2        2         2       2\n",
       "1551       3      1      2        1         3       2\n",
       "727        2      1      3        2         1       1\n",
       "707        2      1      3        3         1       3"
      ]
     },
     "execution_count": 14,
     "metadata": {},
     "output_type": "execute_result"
    }
   ],
   "source": [
    "X_train.head()"
   ]
  },
  {
   "cell_type": "code",
   "execution_count": 15,
   "id": "0168a706",
   "metadata": {},
   "outputs": [
    {
     "data": {
      "text/html": [
       "<div>\n",
       "<style scoped>\n",
       "    .dataframe tbody tr th:only-of-type {\n",
       "        vertical-align: middle;\n",
       "    }\n",
       "\n",
       "    .dataframe tbody tr th {\n",
       "        vertical-align: top;\n",
       "    }\n",
       "\n",
       "    .dataframe thead th {\n",
       "        text-align: right;\n",
       "    }\n",
       "</style>\n",
       "<table border=\"1\" class=\"dataframe\">\n",
       "  <thead>\n",
       "    <tr style=\"text-align: right;\">\n",
       "      <th></th>\n",
       "      <th>buying</th>\n",
       "      <th>maint</th>\n",
       "      <th>doors</th>\n",
       "      <th>persons</th>\n",
       "      <th>lug_boot</th>\n",
       "      <th>safety</th>\n",
       "    </tr>\n",
       "  </thead>\n",
       "  <tbody>\n",
       "    <tr>\n",
       "      <th>599</th>\n",
       "      <td>2</td>\n",
       "      <td>2</td>\n",
       "      <td>3</td>\n",
       "      <td>3</td>\n",
       "      <td>1</td>\n",
       "      <td>3</td>\n",
       "    </tr>\n",
       "    <tr>\n",
       "      <th>932</th>\n",
       "      <td>1</td>\n",
       "      <td>3</td>\n",
       "      <td>3</td>\n",
       "      <td>1</td>\n",
       "      <td>1</td>\n",
       "      <td>3</td>\n",
       "    </tr>\n",
       "    <tr>\n",
       "      <th>628</th>\n",
       "      <td>2</td>\n",
       "      <td>2</td>\n",
       "      <td>1</td>\n",
       "      <td>3</td>\n",
       "      <td>1</td>\n",
       "      <td>1</td>\n",
       "    </tr>\n",
       "    <tr>\n",
       "      <th>1497</th>\n",
       "      <td>3</td>\n",
       "      <td>2</td>\n",
       "      <td>1</td>\n",
       "      <td>1</td>\n",
       "      <td>3</td>\n",
       "      <td>2</td>\n",
       "    </tr>\n",
       "    <tr>\n",
       "      <th>1262</th>\n",
       "      <td>1</td>\n",
       "      <td>4</td>\n",
       "      <td>3</td>\n",
       "      <td>2</td>\n",
       "      <td>3</td>\n",
       "      <td>3</td>\n",
       "    </tr>\n",
       "  </tbody>\n",
       "</table>\n",
       "</div>"
      ],
      "text/plain": [
       "      buying  maint  doors  persons  lug_boot  safety\n",
       "599        2      2      3        3         1       3\n",
       "932        1      3      3        1         1       3\n",
       "628        2      2      1        3         1       1\n",
       "1497       3      2      1        1         3       2\n",
       "1262       1      4      3        2         3       3"
      ]
     },
     "execution_count": 15,
     "metadata": {},
     "output_type": "execute_result"
    }
   ],
   "source": [
    "X_test.head()"
   ]
  },
  {
   "cell_type": "markdown",
   "id": "9260a2f9",
   "metadata": {},
   "source": [
    "### Decision Tree Classifier with criterion gini index"
   ]
  },
  {
   "cell_type": "code",
   "execution_count": 16,
   "id": "02ff129c",
   "metadata": {},
   "outputs": [
    {
     "data": {
      "text/plain": [
       "DecisionTreeClassifier(max_depth=3, random_state=42)"
      ]
     },
     "execution_count": 16,
     "metadata": {},
     "output_type": "execute_result"
    }
   ],
   "source": [
    "classifier_gini = DecisionTreeClassifier(criterion='gini', max_depth=3, random_state=42)\n",
    "\n",
    "# fit the model\n",
    "classifier_gini.fit(X_train, y_train)"
   ]
  },
  {
   "cell_type": "code",
   "execution_count": 17,
   "id": "3e5d5d1f",
   "metadata": {},
   "outputs": [],
   "source": [
    "# make prediction\n",
    "y_pred_gini = classifier_gini.predict(X_test)"
   ]
  },
  {
   "cell_type": "code",
   "execution_count": 18,
   "id": "c3c8e667",
   "metadata": {},
   "outputs": [
    {
     "name": "stdout",
     "output_type": "stream",
     "text": [
      "Model accuracy score with criterion gini index: 0.815\n"
     ]
    }
   ],
   "source": [
    "print('Model accuracy score with criterion gini index: {0:0.3f}'. format(accuracy_score(y_test, y_pred_gini)))"
   ]
  },
  {
   "cell_type": "markdown",
   "id": "67d3079a",
   "metadata": {},
   "source": [
    "Here, y_test are the true class labels and y_pred_gini are the predicted class labels in the test-set."
   ]
  },
  {
   "cell_type": "markdown",
   "id": "32116824",
   "metadata": {},
   "source": [
    "**Compare the train-set and test-set accuracy**<br>\n",
    "Now, I will compare the train-set and test-set accuracy to check for overfitting."
   ]
  },
  {
   "cell_type": "code",
   "execution_count": 19,
   "id": "0bb11351",
   "metadata": {},
   "outputs": [
    {
     "data": {
      "text/plain": [
       "array(['acc', 'acc', 'acc', ..., 'unacc', 'unacc', 'acc'], dtype=object)"
      ]
     },
     "execution_count": 19,
     "metadata": {},
     "output_type": "execute_result"
    }
   ],
   "source": [
    "y_pred_train_gini = classifier_gini.predict(X_train)\n",
    "y_pred_train_gini"
   ]
  },
  {
   "cell_type": "code",
   "execution_count": 20,
   "id": "c81605cb",
   "metadata": {},
   "outputs": [
    {
     "name": "stdout",
     "output_type": "stream",
     "text": [
      "Training-set accuracy score: 0.801\n"
     ]
    }
   ],
   "source": [
    "print('Training-set accuracy score: {0:0.3f}'. format(accuracy_score(y_train, y_pred_train_gini)))"
   ]
  },
  {
   "cell_type": "markdown",
   "id": "f711c7c6",
   "metadata": {},
   "source": [
    "Check for overfitting and underfitting"
   ]
  },
  {
   "cell_type": "code",
   "execution_count": 21,
   "id": "7079e935",
   "metadata": {},
   "outputs": [
    {
     "name": "stdout",
     "output_type": "stream",
     "text": [
      "Training set score: 0.8013\n",
      "Test set score: 0.8150\n"
     ]
    }
   ],
   "source": [
    "# print the scores on training and test set\n",
    "\n",
    "print('Training set score: {:.4f}'.format(classifier_gini.score(X_train, y_train)))\n",
    "\n",
    "print('Test set score: {:.4f}'.format(classifier_gini.score(X_test, y_test)))"
   ]
  },
  {
   "cell_type": "markdown",
   "id": "cc99523b",
   "metadata": {},
   "source": [
    "Here, the training-set accuracy score is 0.8013 while the test-set accuracy to be 0.8150. These two values are quite comparable. So, there is no sign of overfitting."
   ]
  },
  {
   "cell_type": "markdown",
   "id": "fa888b44",
   "metadata": {},
   "source": [
    "#### Visualize decision-trees"
   ]
  },
  {
   "cell_type": "code",
   "execution_count": 22,
   "id": "d4b7af89",
   "metadata": {},
   "outputs": [
    {
     "data": {
      "text/plain": [
       "[Text(0.6666666666666666, 0.875, 'X[5] <= 2.5\\ngini = 0.456\\nsamples = 1208\\nvalue = [266, 52, 848, 42]'),\n",
       " Text(0.5, 0.625, 'X[3] <= 2.5\\ngini = 0.581\\nsamples = 798\\nvalue = [266, 52, 438, 42]'),\n",
       " Text(0.3333333333333333, 0.375, 'X[0] <= 3.5\\ngini = 0.632\\nsamples = 547\\nvalue = [266, 52, 187, 42]'),\n",
       " Text(0.16666666666666666, 0.125, 'gini = 0.634\\nsamples = 406\\nvalue = [216, 52, 96, 42]'),\n",
       " Text(0.5, 0.125, 'gini = 0.458\\nsamples = 141\\nvalue = [50, 0, 91, 0]'),\n",
       " Text(0.6666666666666666, 0.375, 'gini = 0.0\\nsamples = 251\\nvalue = [0, 0, 251, 0]'),\n",
       " Text(0.8333333333333334, 0.625, 'gini = 0.0\\nsamples = 410\\nvalue = [0, 0, 410, 0]')]"
      ]
     },
     "execution_count": 22,
     "metadata": {},
     "output_type": "execute_result"
    },
    {
     "data": {
      "image/png": "[encoded data removed]",
      "text/plain": [
       "<Figure size 432x288 with 1 Axes>"
      ]
     },
     "metadata": {
      "needs_background": "light"
     },
     "output_type": "display_data"
    }
   ],
   "source": [
    "tree.plot_tree(classifier_gini.fit(X_train, y_train))"
   ]
  },
  {
   "cell_type": "code",
   "execution_count": 23,
   "id": "d0d88c9b",
   "metadata": {},
   "outputs": [
    {
     "data": {
      "image/svg+xml": [
       "<?xml version=\"1.0\" encoding=\"UTF-8\" standalone=\"no\"?>\n",
       "<!DOCTYPE svg PUBLIC \"-//W3C//DTD SVG 1.1//EN\"\n",
       " \"http://www.w3.org/Graphics/SVG/1.1/DTD/svg11.dtd\">\n",
       "<!-- Generated by graphviz version 2.50.0 (0)\n",
       " -->\n",
       "<!-- Title: Tree Pages: 1 -->\n",
       "<svg width=\"502pt\" height=\"433pt\"\n",
       " viewBox=\"0.00 0.00 502.00 433.00\" xmlns=\"http://www.w3.org/2000/svg\" xmlns:xlink=\"http://www.w3.org/1999/xlink\">\n",
       "<g id=\"graph0\" class=\"graph\" transform=\"scale(1 1) rotate(0) translate(4 429)\">\n",
       "<title>Tree</title>\n",
       "<polygon fill=\"white\" stroke=\"transparent\" points=\"-4,4 -4,-429 498,-429 498,4 -4,4\"/>\n",
       "<!-- 0 -->\n",
       "<g id=\"node1\" class=\"node\">\n",
       "<title>0</title>\n",
       "<path fill=\"#85c2ef\" stroke=\"black\" d=\"M410,-425C410,-425 264,-425 264,-425 258,-425 252,-419 252,-413 252,-413 252,-354 252,-354 252,-348 258,-342 264,-342 264,-342 410,-342 410,-342 416,-342 422,-348 422,-354 422,-354 422,-413 422,-413 422,-419 416,-425 410,-425\"/>\n",
       "<text text-anchor=\"start\" x=\"302\" y=\"-409.8\" font-family=\"Helvetica,sans-Serif\" font-size=\"14.00\">safety ≤ 2.5</text>\n",
       "<text text-anchor=\"start\" x=\"301.5\" y=\"-394.8\" font-family=\"Helvetica,sans-Serif\" font-size=\"14.00\">gini = 0.456</text>\n",
       "<text text-anchor=\"start\" x=\"288.5\" y=\"-379.8\" font-family=\"Helvetica,sans-Serif\" font-size=\"14.00\">samples = 1208</text>\n",
       "<text text-anchor=\"start\" x=\"260\" y=\"-364.8\" font-family=\"Helvetica,sans-Serif\" font-size=\"14.00\">value = [266, 52, 848, 42]</text>\n",
       "<text text-anchor=\"start\" x=\"295.5\" y=\"-349.8\" font-family=\"Helvetica,sans-Serif\" font-size=\"14.00\">class = unacc</text>\n",
       "</g>\n",
       "<!-- 1 -->\n",
       "<g id=\"node2\" class=\"node\">\n",
       "<title>1</title>\n",
       "<path fill=\"#bfdff7\" stroke=\"black\" d=\"M324,-306C324,-306 178,-306 178,-306 172,-306 166,-300 166,-294 166,-294 166,-235 166,-235 166,-229 172,-223 178,-223 178,-223 324,-223 324,-223 330,-223 336,-229 336,-235 336,-235 336,-294 336,-294 336,-300 330,-306 324,-306\"/>\n",
       "<text text-anchor=\"start\" x=\"210\" y=\"-290.8\" font-family=\"Helvetica,sans-Serif\" font-size=\"14.00\">persons ≤ 2.5</text>\n",
       "<text text-anchor=\"start\" x=\"215.5\" y=\"-275.8\" font-family=\"Helvetica,sans-Serif\" font-size=\"14.00\">gini = 0.581</text>\n",
       "<text text-anchor=\"start\" x=\"206\" y=\"-260.8\" font-family=\"Helvetica,sans-Serif\" font-size=\"14.00\">samples = 798</text>\n",
       "<text text-anchor=\"start\" x=\"174\" y=\"-245.8\" font-family=\"Helvetica,sans-Serif\" font-size=\"14.00\">value = [266, 52, 438, 42]</text>\n",
       "<text text-anchor=\"start\" x=\"209.5\" y=\"-230.8\" font-family=\"Helvetica,sans-Serif\" font-size=\"14.00\">class = unacc</text>\n",
       "</g>\n",
       "<!-- 0&#45;&gt;1 -->\n",
       "<g id=\"edge1\" class=\"edge\">\n",
       "<title>0&#45;&gt;1</title>\n",
       "<path fill=\"none\" stroke=\"black\" d=\"M307.16,-341.91C300.63,-333.01 293.64,-323.51 286.89,-314.33\"/>\n",
       "<polygon fill=\"black\" stroke=\"black\" points=\"289.53,-312.01 280.78,-306.02 283.89,-316.15 289.53,-312.01\"/>\n",
       "<text text-anchor=\"middle\" x=\"277.01\" y=\"-327.03\" font-family=\"Helvetica,sans-Serif\" font-size=\"14.00\">True</text>\n",
       "</g>\n",
       "<!-- 6 -->\n",
       "<g id=\"node7\" class=\"node\">\n",
       "<title>6</title>\n",
       "<path fill=\"#399de5\" stroke=\"black\" d=\"M482,-298.5C482,-298.5 366,-298.5 366,-298.5 360,-298.5 354,-292.5 354,-286.5 354,-286.5 354,-242.5 354,-242.5 354,-236.5 360,-230.5 366,-230.5 366,-230.5 482,-230.5 482,-230.5 488,-230.5 494,-236.5 494,-242.5 494,-242.5 494,-286.5 494,-286.5 494,-292.5 488,-298.5 482,-298.5\"/>\n",
       "<text text-anchor=\"start\" x=\"396\" y=\"-283.3\" font-family=\"Helvetica,sans-Serif\" font-size=\"14.00\">gini = 0.0</text>\n",
       "<text text-anchor=\"start\" x=\"379\" y=\"-268.3\" font-family=\"Helvetica,sans-Serif\" font-size=\"14.00\">samples = 410</text>\n",
       "<text text-anchor=\"start\" x=\"362\" y=\"-253.3\" font-family=\"Helvetica,sans-Serif\" font-size=\"14.00\">value = [0, 0, 410, 0]</text>\n",
       "<text text-anchor=\"start\" x=\"382.5\" y=\"-238.3\" font-family=\"Helvetica,sans-Serif\" font-size=\"14.00\">class = unacc</text>\n",
       "</g>\n",
       "<!-- 0&#45;&gt;6 -->\n",
       "<g id=\"edge6\" class=\"edge\">\n",
       "<title>0&#45;&gt;6</title>\n",
       "<path fill=\"none\" stroke=\"black\" d=\"M367.18,-341.91C375.64,-330.54 384.83,-318.18 393.31,-306.77\"/>\n",
       "<polygon fill=\"black\" stroke=\"black\" points=\"396.18,-308.78 399.34,-298.67 390.56,-304.6 396.18,-308.78\"/>\n",
       "<text text-anchor=\"middle\" x=\"402.97\" y=\"-319.7\" font-family=\"Helvetica,sans-Serif\" font-size=\"14.00\">False</text>\n",
       "</g>\n",
       "<!-- 2 -->\n",
       "<g id=\"node3\" class=\"node\">\n",
       "<title>2</title>\n",
       "<path fill=\"#f9e3d4\" stroke=\"black\" d=\"M238,-187C238,-187 92,-187 92,-187 86,-187 80,-181 80,-175 80,-175 80,-116 80,-116 80,-110 86,-104 92,-104 92,-104 238,-104 238,-104 244,-104 250,-110 250,-116 250,-116 250,-175 250,-175 250,-181 244,-187 238,-187\"/>\n",
       "<text text-anchor=\"start\" x=\"128\" y=\"-171.8\" font-family=\"Helvetica,sans-Serif\" font-size=\"14.00\">buying ≤ 3.5</text>\n",
       "<text text-anchor=\"start\" x=\"129.5\" y=\"-156.8\" font-family=\"Helvetica,sans-Serif\" font-size=\"14.00\">gini = 0.632</text>\n",
       "<text text-anchor=\"start\" x=\"120\" y=\"-141.8\" font-family=\"Helvetica,sans-Serif\" font-size=\"14.00\">samples = 547</text>\n",
       "<text text-anchor=\"start\" x=\"88\" y=\"-126.8\" font-family=\"Helvetica,sans-Serif\" font-size=\"14.00\">value = [266, 52, 187, 42]</text>\n",
       "<text text-anchor=\"start\" x=\"123.5\" y=\"-111.8\" font-family=\"Helvetica,sans-Serif\" font-size=\"14.00\">class = unacc</text>\n",
       "</g>\n",
       "<!-- 1&#45;&gt;2 -->\n",
       "<g id=\"edge2\" class=\"edge\">\n",
       "<title>1&#45;&gt;2</title>\n",
       "<path fill=\"none\" stroke=\"black\" d=\"M221.16,-222.91C214.63,-214.01 207.64,-204.51 200.89,-195.33\"/>\n",
       "<polygon fill=\"black\" stroke=\"black\" points=\"203.53,-193.01 194.78,-187.02 197.89,-197.15 203.53,-193.01\"/>\n",
       "</g>\n",
       "<!-- 5 -->\n",
       "<g id=\"node6\" class=\"node\">\n",
       "<title>5</title>\n",
       "<path fill=\"#399de5\" stroke=\"black\" d=\"M396,-179.5C396,-179.5 280,-179.5 280,-179.5 274,-179.5 268,-173.5 268,-167.5 268,-167.5 268,-123.5 268,-123.5 268,-117.5 274,-111.5 280,-111.5 280,-111.5 396,-111.5 396,-111.5 402,-111.5 408,-117.5 408,-123.5 408,-123.5 408,-167.5 408,-167.5 408,-173.5 402,-179.5 396,-179.5\"/>\n",
       "<text text-anchor=\"start\" x=\"310\" y=\"-164.3\" font-family=\"Helvetica,sans-Serif\" font-size=\"14.00\">gini = 0.0</text>\n",
       "<text text-anchor=\"start\" x=\"293\" y=\"-149.3\" font-family=\"Helvetica,sans-Serif\" font-size=\"14.00\">samples = 251</text>\n",
       "<text text-anchor=\"start\" x=\"276\" y=\"-134.3\" font-family=\"Helvetica,sans-Serif\" font-size=\"14.00\">value = [0, 0, 251, 0]</text>\n",
       "<text text-anchor=\"start\" x=\"296.5\" y=\"-119.3\" font-family=\"Helvetica,sans-Serif\" font-size=\"14.00\">class = unacc</text>\n",
       "</g>\n",
       "<!-- 1&#45;&gt;5 -->\n",
       "<g id=\"edge5\" class=\"edge\">\n",
       "<title>1&#45;&gt;5</title>\n",
       "<path fill=\"none\" stroke=\"black\" d=\"M281.18,-222.91C289.64,-211.54 298.83,-199.18 307.31,-187.77\"/>\n",
       "<polygon fill=\"black\" stroke=\"black\" points=\"310.18,-189.78 313.34,-179.67 304.56,-185.6 310.18,-189.78\"/>\n",
       "</g>\n",
       "<!-- 3 -->\n",
       "<g id=\"node4\" class=\"node\">\n",
       "<title>3</title>\n",
       "<path fill=\"#f5ceb2\" stroke=\"black\" d=\"M150,-68C150,-68 12,-68 12,-68 6,-68 0,-62 0,-56 0,-56 0,-12 0,-12 0,-6 6,0 12,0 12,0 150,0 150,0 156,0 162,-6 162,-12 162,-12 162,-56 162,-56 162,-62 156,-68 150,-68\"/>\n",
       "<text text-anchor=\"start\" x=\"45.5\" y=\"-52.8\" font-family=\"Helvetica,sans-Serif\" font-size=\"14.00\">gini = 0.634</text>\n",
       "<text text-anchor=\"start\" x=\"36\" y=\"-37.8\" font-family=\"Helvetica,sans-Serif\" font-size=\"14.00\">samples = 406</text>\n",
       "<text text-anchor=\"start\" x=\"8\" y=\"-22.8\" font-family=\"Helvetica,sans-Serif\" font-size=\"14.00\">value = [216, 52, 96, 42]</text>\n",
       "<text text-anchor=\"start\" x=\"39.5\" y=\"-7.8\" font-family=\"Helvetica,sans-Serif\" font-size=\"14.00\">class = unacc</text>\n",
       "</g>\n",
       "<!-- 2&#45;&gt;3 -->\n",
       "<g id=\"edge3\" class=\"edge\">\n",
       "<title>2&#45;&gt;3</title>\n",
       "<path fill=\"none\" stroke=\"black\" d=\"M133.72,-103.73C126.86,-94.79 119.6,-85.32 112.72,-76.36\"/>\n",
       "<polygon fill=\"black\" stroke=\"black\" points=\"115.41,-74.1 106.54,-68.3 109.85,-78.36 115.41,-74.1\"/>\n",
       "</g>\n",
       "<!-- 4 -->\n",
       "<g id=\"node5\" class=\"node\">\n",
       "<title>4</title>\n",
       "<path fill=\"#a6d3f3\" stroke=\"black\" d=\"M308,-68C308,-68 192,-68 192,-68 186,-68 180,-62 180,-56 180,-56 180,-12 180,-12 180,-6 186,0 192,0 192,0 308,0 308,0 314,0 320,-6 320,-12 320,-12 320,-56 320,-56 320,-62 314,-68 308,-68\"/>\n",
       "<text text-anchor=\"start\" x=\"214.5\" y=\"-52.8\" font-family=\"Helvetica,sans-Serif\" font-size=\"14.00\">gini = 0.458</text>\n",
       "<text text-anchor=\"start\" x=\"205\" y=\"-37.8\" font-family=\"Helvetica,sans-Serif\" font-size=\"14.00\">samples = 141</text>\n",
       "<text text-anchor=\"start\" x=\"188\" y=\"-22.8\" font-family=\"Helvetica,sans-Serif\" font-size=\"14.00\">value = [50, 0, 91, 0]</text>\n",
       "<text text-anchor=\"start\" x=\"208.5\" y=\"-7.8\" font-family=\"Helvetica,sans-Serif\" font-size=\"14.00\">class = unacc</text>\n",
       "</g>\n",
       "<!-- 2&#45;&gt;4 -->\n",
       "<g id=\"edge4\" class=\"edge\">\n",
       "<title>2&#45;&gt;4</title>\n",
       "<path fill=\"none\" stroke=\"black\" d=\"M196.65,-103.73C203.59,-94.79 210.94,-85.32 217.9,-76.36\"/>\n",
       "<polygon fill=\"black\" stroke=\"black\" points=\"220.78,-78.35 224.15,-68.3 215.25,-74.05 220.78,-78.35\"/>\n",
       "</g>\n",
       "</g>\n",
       "</svg>\n"
      ],
      "text/plain": [
       "<graphviz.sources.Source at 0x1ac6b8903d0>"
      ]
     },
     "execution_count": 23,
     "metadata": {},
     "output_type": "execute_result"
    }
   ],
   "source": [
    "dot_data_gini = tree.export_graphviz(classifier_gini, out_file=None,\n",
    "                                feature_names=X_train.columns,\n",
    "                               class_names=y_train,\n",
    "                               filled=True, rounded=True,\n",
    "                               special_characters=True)\n",
    "\n",
    "graph_gini = graphviz.Source(dot_data_gini)\n",
    "graph_gini"
   ]
  },
  {
   "cell_type": "markdown",
   "id": "7d352831",
   "metadata": {},
   "source": [
    "### Decision Tree Classifier with criterion entropy"
   ]
  },
  {
   "cell_type": "code",
   "execution_count": 24,
   "id": "e8bd3cd8",
   "metadata": {},
   "outputs": [
    {
     "data": {
      "text/plain": [
       "DecisionTreeClassifier(criterion='entropy', max_depth=3, random_state=42)"
      ]
     },
     "execution_count": 24,
     "metadata": {},
     "output_type": "execute_result"
    }
   ],
   "source": [
    "# instantiate the DecisionTreeClassifier model with criterion entropy\n",
    "\n",
    "classifier_entropy = DecisionTreeClassifier(criterion='entropy', max_depth=3, random_state=42)\n",
    "classifier_entropy.fit(X_train, y_train)"
   ]
  },
  {
   "cell_type": "code",
   "execution_count": 25,
   "id": "3eb8e4d7",
   "metadata": {},
   "outputs": [
    {
     "name": "stdout",
     "output_type": "stream",
     "text": [
      "Model accuracy score with criterion entropy: 0.815\n"
     ]
    }
   ],
   "source": [
    "# make predicitons\n",
    "y_pred_entropy = classifier_entropy.predict(X_test)\n",
    "\n",
    "print('Model accuracy score with criterion entropy: {0:0.3f}'. format(accuracy_score(y_test, y_pred_entropy)))"
   ]
  },
  {
   "cell_type": "code",
   "execution_count": 26,
   "id": "96078229",
   "metadata": {},
   "outputs": [
    {
     "name": "stdout",
     "output_type": "stream",
     "text": [
      "Training-set accuracy score: 0.8013\n"
     ]
    }
   ],
   "source": [
    "# Compare the train-set and test-set accuracy\n",
    "y_pred_train_entropy = classifier_entropy.predict(X_train)\n",
    "print('Training-set accuracy score: {0:0.4f}'. format(accuracy_score(y_train, y_pred_train_entropy)))"
   ]
  },
  {
   "cell_type": "code",
   "execution_count": 27,
   "id": "66a6e677",
   "metadata": {},
   "outputs": [
    {
     "name": "stdout",
     "output_type": "stream",
     "text": [
      "Training set score: 0.8013\n",
      "Test set score: 0.8150\n"
     ]
    }
   ],
   "source": [
    "# Check for overfitting and underfitting\n",
    "print('Training set score: {:.4f}'.format(classifier_entropy.score(X_train, y_train)))\n",
    "\n",
    "print('Test set score: {:.4f}'.format(classifier_entropy.score(X_test, y_test)))"
   ]
  },
  {
   "cell_type": "markdown",
   "id": "edcb5171",
   "metadata": {},
   "source": [
    "We can see that the training-set score and test-set score is same as above. The training-set accuracy score is 0.8013 while the test-set accuracy to be 0.8150. These two values are quite comparable. So, there is no sign of overfitting."
   ]
  },
  {
   "cell_type": "code",
   "execution_count": 28,
   "id": "309cad4f",
   "metadata": {
    "scrolled": false
   },
   "outputs": [
    {
     "data": {
      "image/svg+xml": [
       "<?xml version=\"1.0\" encoding=\"UTF-8\" standalone=\"no\"?>\n",
       "<!DOCTYPE svg PUBLIC \"-//W3C//DTD SVG 1.1//EN\"\n",
       " \"http://www.w3.org/Graphics/SVG/1.1/DTD/svg11.dtd\">\n",
       "<!-- Generated by graphviz version 2.50.0 (0)\n",
       " -->\n",
       "<!-- Title: Tree Pages: 1 -->\n",
       "<svg width=\"502pt\" height=\"433pt\"\n",
       " viewBox=\"0.00 0.00 502.00 433.00\" xmlns=\"http://www.w3.org/2000/svg\" xmlns:xlink=\"http://www.w3.org/1999/xlink\">\n",
       "<g id=\"graph0\" class=\"graph\" transform=\"scale(1 1) rotate(0) translate(4 429)\">\n",
       "<title>Tree</title>\n",
       "<polygon fill=\"white\" stroke=\"transparent\" points=\"-4,4 -4,-429 498,-429 498,4 -4,4\"/>\n",
       "<!-- 0 -->\n",
       "<g id=\"node1\" class=\"node\">\n",
       "<title>0</title>\n",
       "<path fill=\"#85c2ef\" stroke=\"black\" d=\"M410,-425C410,-425 264,-425 264,-425 258,-425 252,-419 252,-413 252,-413 252,-354 252,-354 252,-348 258,-342 264,-342 264,-342 410,-342 410,-342 416,-342 422,-348 422,-354 422,-354 422,-413 422,-413 422,-419 416,-425 410,-425\"/>\n",
       "<text text-anchor=\"start\" x=\"302\" y=\"-409.8\" font-family=\"Helvetica,sans-Serif\" font-size=\"14.00\">safety ≤ 2.5</text>\n",
       "<text text-anchor=\"start\" x=\"289.5\" y=\"-394.8\" font-family=\"Helvetica,sans-Serif\" font-size=\"14.00\">entropy = 1.203</text>\n",
       "<text text-anchor=\"start\" x=\"288.5\" y=\"-379.8\" font-family=\"Helvetica,sans-Serif\" font-size=\"14.00\">samples = 1208</text>\n",
       "<text text-anchor=\"start\" x=\"260\" y=\"-364.8\" font-family=\"Helvetica,sans-Serif\" font-size=\"14.00\">value = [266, 52, 848, 42]</text>\n",
       "<text text-anchor=\"start\" x=\"295.5\" y=\"-349.8\" font-family=\"Helvetica,sans-Serif\" font-size=\"14.00\">class = unacc</text>\n",
       "</g>\n",
       "<!-- 1 -->\n",
       "<g id=\"node2\" class=\"node\">\n",
       "<title>1</title>\n",
       "<path fill=\"#bfdff7\" stroke=\"black\" d=\"M324,-306C324,-306 178,-306 178,-306 172,-306 166,-300 166,-294 166,-294 166,-235 166,-235 166,-229 172,-223 178,-223 178,-223 324,-223 324,-223 330,-223 336,-229 336,-235 336,-235 336,-294 336,-294 336,-300 330,-306 324,-306\"/>\n",
       "<text text-anchor=\"start\" x=\"210\" y=\"-290.8\" font-family=\"Helvetica,sans-Serif\" font-size=\"14.00\">persons ≤ 2.5</text>\n",
       "<text text-anchor=\"start\" x=\"203.5\" y=\"-275.8\" font-family=\"Helvetica,sans-Serif\" font-size=\"14.00\">entropy = 1.484</text>\n",
       "<text text-anchor=\"start\" x=\"206\" y=\"-260.8\" font-family=\"Helvetica,sans-Serif\" font-size=\"14.00\">samples = 798</text>\n",
       "<text text-anchor=\"start\" x=\"174\" y=\"-245.8\" font-family=\"Helvetica,sans-Serif\" font-size=\"14.00\">value = [266, 52, 438, 42]</text>\n",
       "<text text-anchor=\"start\" x=\"209.5\" y=\"-230.8\" font-family=\"Helvetica,sans-Serif\" font-size=\"14.00\">class = unacc</text>\n",
       "</g>\n",
       "<!-- 0&#45;&gt;1 -->\n",
       "<g id=\"edge1\" class=\"edge\">\n",
       "<title>0&#45;&gt;1</title>\n",
       "<path fill=\"none\" stroke=\"black\" d=\"M307.16,-341.91C300.63,-333.01 293.64,-323.51 286.89,-314.33\"/>\n",
       "<polygon fill=\"black\" stroke=\"black\" points=\"289.53,-312.01 280.78,-306.02 283.89,-316.15 289.53,-312.01\"/>\n",
       "<text text-anchor=\"middle\" x=\"277.01\" y=\"-327.03\" font-family=\"Helvetica,sans-Serif\" font-size=\"14.00\">True</text>\n",
       "</g>\n",
       "<!-- 6 -->\n",
       "<g id=\"node7\" class=\"node\">\n",
       "<title>6</title>\n",
       "<path fill=\"#399de5\" stroke=\"black\" d=\"M482,-298.5C482,-298.5 366,-298.5 366,-298.5 360,-298.5 354,-292.5 354,-286.5 354,-286.5 354,-242.5 354,-242.5 354,-236.5 360,-230.5 366,-230.5 366,-230.5 482,-230.5 482,-230.5 488,-230.5 494,-236.5 494,-242.5 494,-242.5 494,-286.5 494,-286.5 494,-292.5 488,-298.5 482,-298.5\"/>\n",
       "<text text-anchor=\"start\" x=\"384\" y=\"-283.3\" font-family=\"Helvetica,sans-Serif\" font-size=\"14.00\">entropy = 0.0</text>\n",
       "<text text-anchor=\"start\" x=\"379\" y=\"-268.3\" font-family=\"Helvetica,sans-Serif\" font-size=\"14.00\">samples = 410</text>\n",
       "<text text-anchor=\"start\" x=\"362\" y=\"-253.3\" font-family=\"Helvetica,sans-Serif\" font-size=\"14.00\">value = [0, 0, 410, 0]</text>\n",
       "<text text-anchor=\"start\" x=\"382.5\" y=\"-238.3\" font-family=\"Helvetica,sans-Serif\" font-size=\"14.00\">class = unacc</text>\n",
       "</g>\n",
       "<!-- 0&#45;&gt;6 -->\n",
       "<g id=\"edge6\" class=\"edge\">\n",
       "<title>0&#45;&gt;6</title>\n",
       "<path fill=\"none\" stroke=\"black\" d=\"M367.18,-341.91C375.64,-330.54 384.83,-318.18 393.31,-306.77\"/>\n",
       "<polygon fill=\"black\" stroke=\"black\" points=\"396.18,-308.78 399.34,-298.67 390.56,-304.6 396.18,-308.78\"/>\n",
       "<text text-anchor=\"middle\" x=\"402.97\" y=\"-319.7\" font-family=\"Helvetica,sans-Serif\" font-size=\"14.00\">False</text>\n",
       "</g>\n",
       "<!-- 2 -->\n",
       "<g id=\"node3\" class=\"node\">\n",
       "<title>2</title>\n",
       "<path fill=\"#f9e3d4\" stroke=\"black\" d=\"M238,-187C238,-187 92,-187 92,-187 86,-187 80,-181 80,-175 80,-175 80,-116 80,-116 80,-110 86,-104 92,-104 92,-104 238,-104 238,-104 244,-104 250,-110 250,-116 250,-116 250,-175 250,-175 250,-181 244,-187 238,-187\"/>\n",
       "<text text-anchor=\"start\" x=\"128\" y=\"-171.8\" font-family=\"Helvetica,sans-Serif\" font-size=\"14.00\">buying ≤ 3.5</text>\n",
       "<text text-anchor=\"start\" x=\"117.5\" y=\"-156.8\" font-family=\"Helvetica,sans-Serif\" font-size=\"14.00\">entropy = 1.642</text>\n",
       "<text text-anchor=\"start\" x=\"120\" y=\"-141.8\" font-family=\"Helvetica,sans-Serif\" font-size=\"14.00\">samples = 547</text>\n",
       "<text text-anchor=\"start\" x=\"88\" y=\"-126.8\" font-family=\"Helvetica,sans-Serif\" font-size=\"14.00\">value = [266, 52, 187, 42]</text>\n",
       "<text text-anchor=\"start\" x=\"123.5\" y=\"-111.8\" font-family=\"Helvetica,sans-Serif\" font-size=\"14.00\">class = unacc</text>\n",
       "</g>\n",
       "<!-- 1&#45;&gt;2 -->\n",
       "<g id=\"edge2\" class=\"edge\">\n",
       "<title>1&#45;&gt;2</title>\n",
       "<path fill=\"none\" stroke=\"black\" d=\"M221.16,-222.91C214.63,-214.01 207.64,-204.51 200.89,-195.33\"/>\n",
       "<polygon fill=\"black\" stroke=\"black\" points=\"203.53,-193.01 194.78,-187.02 197.89,-197.15 203.53,-193.01\"/>\n",
       "</g>\n",
       "<!-- 5 -->\n",
       "<g id=\"node6\" class=\"node\">\n",
       "<title>5</title>\n",
       "<path fill=\"#399de5\" stroke=\"black\" d=\"M396,-179.5C396,-179.5 280,-179.5 280,-179.5 274,-179.5 268,-173.5 268,-167.5 268,-167.5 268,-123.5 268,-123.5 268,-117.5 274,-111.5 280,-111.5 280,-111.5 396,-111.5 396,-111.5 402,-111.5 408,-117.5 408,-123.5 408,-123.5 408,-167.5 408,-167.5 408,-173.5 402,-179.5 396,-179.5\"/>\n",
       "<text text-anchor=\"start\" x=\"298\" y=\"-164.3\" font-family=\"Helvetica,sans-Serif\" font-size=\"14.00\">entropy = 0.0</text>\n",
       "<text text-anchor=\"start\" x=\"293\" y=\"-149.3\" font-family=\"Helvetica,sans-Serif\" font-size=\"14.00\">samples = 251</text>\n",
       "<text text-anchor=\"start\" x=\"276\" y=\"-134.3\" font-family=\"Helvetica,sans-Serif\" font-size=\"14.00\">value = [0, 0, 251, 0]</text>\n",
       "<text text-anchor=\"start\" x=\"296.5\" y=\"-119.3\" font-family=\"Helvetica,sans-Serif\" font-size=\"14.00\">class = unacc</text>\n",
       "</g>\n",
       "<!-- 1&#45;&gt;5 -->\n",
       "<g id=\"edge5\" class=\"edge\">\n",
       "<title>1&#45;&gt;5</title>\n",
       "<path fill=\"none\" stroke=\"black\" d=\"M281.18,-222.91C289.64,-211.54 298.83,-199.18 307.31,-187.77\"/>\n",
       "<polygon fill=\"black\" stroke=\"black\" points=\"310.18,-189.78 313.34,-179.67 304.56,-185.6 310.18,-189.78\"/>\n",
       "</g>\n",
       "<!-- 3 -->\n",
       "<g id=\"node4\" class=\"node\">\n",
       "<title>3</title>\n",
       "<path fill=\"#f5ceb2\" stroke=\"black\" d=\"M150,-68C150,-68 12,-68 12,-68 6,-68 0,-62 0,-56 0,-56 0,-12 0,-12 0,-6 6,0 12,0 12,0 150,0 150,0 156,0 162,-6 162,-12 162,-12 162,-56 162,-56 162,-62 156,-68 150,-68\"/>\n",
       "<text text-anchor=\"start\" x=\"33.5\" y=\"-52.8\" font-family=\"Helvetica,sans-Serif\" font-size=\"14.00\">entropy = 1.695</text>\n",
       "<text text-anchor=\"start\" x=\"36\" y=\"-37.8\" font-family=\"Helvetica,sans-Serif\" font-size=\"14.00\">samples = 406</text>\n",
       "<text text-anchor=\"start\" x=\"8\" y=\"-22.8\" font-family=\"Helvetica,sans-Serif\" font-size=\"14.00\">value = [216, 52, 96, 42]</text>\n",
       "<text text-anchor=\"start\" x=\"39.5\" y=\"-7.8\" font-family=\"Helvetica,sans-Serif\" font-size=\"14.00\">class = unacc</text>\n",
       "</g>\n",
       "<!-- 2&#45;&gt;3 -->\n",
       "<g id=\"edge3\" class=\"edge\">\n",
       "<title>2&#45;&gt;3</title>\n",
       "<path fill=\"none\" stroke=\"black\" d=\"M133.72,-103.73C126.86,-94.79 119.6,-85.32 112.72,-76.36\"/>\n",
       "<polygon fill=\"black\" stroke=\"black\" points=\"115.41,-74.1 106.54,-68.3 109.85,-78.36 115.41,-74.1\"/>\n",
       "</g>\n",
       "<!-- 4 -->\n",
       "<g id=\"node5\" class=\"node\">\n",
       "<title>4</title>\n",
       "<path fill=\"#a6d3f3\" stroke=\"black\" d=\"M308,-68C308,-68 192,-68 192,-68 186,-68 180,-62 180,-56 180,-56 180,-12 180,-12 180,-6 186,0 192,0 192,0 308,0 308,0 314,0 320,-6 320,-12 320,-12 320,-56 320,-56 320,-62 314,-68 308,-68\"/>\n",
       "<text text-anchor=\"start\" x=\"202.5\" y=\"-52.8\" font-family=\"Helvetica,sans-Serif\" font-size=\"14.00\">entropy = 0.938</text>\n",
       "<text text-anchor=\"start\" x=\"205\" y=\"-37.8\" font-family=\"Helvetica,sans-Serif\" font-size=\"14.00\">samples = 141</text>\n",
       "<text text-anchor=\"start\" x=\"188\" y=\"-22.8\" font-family=\"Helvetica,sans-Serif\" font-size=\"14.00\">value = [50, 0, 91, 0]</text>\n",
       "<text text-anchor=\"start\" x=\"208.5\" y=\"-7.8\" font-family=\"Helvetica,sans-Serif\" font-size=\"14.00\">class = unacc</text>\n",
       "</g>\n",
       "<!-- 2&#45;&gt;4 -->\n",
       "<g id=\"edge4\" class=\"edge\">\n",
       "<title>2&#45;&gt;4</title>\n",
       "<path fill=\"none\" stroke=\"black\" d=\"M196.65,-103.73C203.59,-94.79 210.94,-85.32 217.9,-76.36\"/>\n",
       "<polygon fill=\"black\" stroke=\"black\" points=\"220.78,-78.35 224.15,-68.3 215.25,-74.05 220.78,-78.35\"/>\n",
       "</g>\n",
       "</g>\n",
       "</svg>\n"
      ],
      "text/plain": [
       "<graphviz.sources.Source at 0x1ac6ad8b580>"
      ]
     },
     "execution_count": 28,
     "metadata": {},
     "output_type": "execute_result"
    }
   ],
   "source": [
    "dot_data_entropy = tree.export_graphviz(classifier_entropy, out_file=None, \n",
    "                              feature_names=X_train.columns,  \n",
    "                              class_names=y_train,  \n",
    "                              filled=True, rounded=True,  \n",
    "                              special_characters=True)\n",
    "\n",
    "graph_entropy = graphviz.Source(dot_data_entropy) \n",
    "\n",
    "graph_entropy "
   ]
  },
  {
   "cell_type": "markdown",
   "id": "e5c281bf",
   "metadata": {},
   "source": [
    "Now, based on the above analysis we can conclude that our classification model accuracy is very good. Our model is doing a very good job in terms of predicting the class labels.\n",
    "\n",
    "But, it does not give the underlying distribution of values. Also, it does not tell anything about the type of errors our classifer is making.\n",
    "\n",
    "We have another tool called Confusion matrix that comes to our rescue."
   ]
  },
  {
   "cell_type": "code",
   "execution_count": 29,
   "id": "b00943b9",
   "metadata": {},
   "outputs": [
    {
     "data": {
      "text/plain": [
       "array([[ 96,   0,  22,   0],\n",
       "       [ 17,   0,   0,   0],\n",
       "       [ 34,   0, 327,   0],\n",
       "       [ 23,   0,   0,   0]], dtype=int64)"
      ]
     },
     "execution_count": 29,
     "metadata": {},
     "output_type": "execute_result"
    }
   ],
   "source": [
    "cm = confusion_matrix(y_test, y_pred_entropy)\n",
    "cm"
   ]
  },
  {
   "cell_type": "code",
   "execution_count": 30,
   "id": "85b4c36a",
   "metadata": {},
   "outputs": [
    {
     "name": "stdout",
     "output_type": "stream",
     "text": [
      "              precision    recall  f1-score   support\n",
      "\n",
      "         acc       0.56      0.81      0.67       118\n",
      "        good       0.00      0.00      0.00        17\n",
      "       unacc       0.94      0.91      0.92       361\n",
      "       vgood       0.00      0.00      0.00        23\n",
      "\n",
      "    accuracy                           0.82       519\n",
      "   macro avg       0.38      0.43      0.40       519\n",
      "weighted avg       0.78      0.82      0.79       519\n",
      "\n"
     ]
    }
   ],
   "source": [
    "print(classification_report(y_test, y_pred_entropy))"
   ]
  },
  {
   "cell_type": "markdown",
   "id": "6238809c",
   "metadata": {},
   "source": [
    "## Conclusion"
   ]
  },
  {
   "cell_type": "markdown",
   "id": "157ff24c",
   "metadata": {},
   "source": [
    "1. In this project, I build a Decision-Tree Classifier model to predict the safety of the car. I build two models, one with criterion gini index and another one with criterion entropy. The model yields a very good performance as indicated by the model accuracy in both the cases which was found to be 0.8150.\n",
    "2. In the model with criterion gini index, the training-set accuracy score is 0.8013 while the test-set accuracy to be 0.8021. These two values are quite comparable. So, there is no sign of overfitting.\n",
    "3. Similarly, in the model with criterion entropy, the training-set accuracy score is 0.8013 while the test-set accuracy to be 0.8150.We get the same values as in the case with criterion gini. So, there is no sign of overfitting.\n",
    "4. In both the cases, the training-set and test-set accuracy score is the same. It may happen because of small dataset.\n",
    "5. The confusion matrix and classification report yields very good model performance."
   ]
  }
 ],
 "metadata": {
  "kernelspec": {
   "display_name": "Python 3 (ipykernel)",
   "language": "python",
   "name": "python3"
  },
  "language_info": {
   "codemirror_mode": {
    "name": "ipython",
    "version": 3
   },
   "file_extension": ".py",
   "mimetype": "text/x-python",
   "name": "python",
   "nbconvert_exporter": "python",
   "pygments_lexer": "ipython3",
   "version": "3.9.11"
  }
 },
 "nbformat": 4,
 "nbformat_minor": 5
}
